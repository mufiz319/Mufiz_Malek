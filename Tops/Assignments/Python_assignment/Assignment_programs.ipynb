{
 "cells": [
  {
   "cell_type": "markdown",
   "id": "d1a65a63-6216-4943-8e3b-142084d21131",
   "metadata": {},
   "source": [
    "# Que 4"
   ]
  },
  {
   "cell_type": "code",
   "execution_count": 21,
   "id": "da8035af-a723-4d16-9165-65a4afe80c0c",
   "metadata": {},
   "outputs": [
    {
     "name": "stdin",
     "output_type": "stream",
     "text": [
      "enter num1 = 0\n"
     ]
    },
    {
     "name": "stdout",
     "output_type": "stream",
     "text": [
      "Entered Number is Zero\n"
     ]
    }
   ],
   "source": [
    "x = int(input(\"enter num =\"))\n",
    "\n",
    "if(x > 0):\n",
    "    print(\"Number is positive\")\n",
    "elif(x < 0):\n",
    "    print(\"Number is Negative\")\n",
    "else:\n",
    "    print(\"Entered Number is Zero\")"
   ]
  },
  {
   "cell_type": "markdown",
   "id": "250f4c05-05a0-46dc-80fa-b3a00c50a4d5",
   "metadata": {},
   "source": [
    "# Que10"
   ]
  },
  {
   "cell_type": "code",
   "execution_count": 40,
   "id": "1c46b2a6-0658-432b-aa77-e84564c58fda",
   "metadata": {},
   "outputs": [
    {
     "name": "stdin",
     "output_type": "stream",
     "text": [
      "enter num = 4\n"
     ]
    },
    {
     "name": "stdout",
     "output_type": "stream",
     "text": [
      "Entered Number is Even\n"
     ]
    }
   ],
   "source": [
    "x = int(input(\"enter num =\"))\n",
    "\n",
    "if (x%2 == 0):\n",
    "    print(\"Entered Number is Even\")\n",
    "else:\n",
    "    print(\"Entered Number is Odd\")"
   ]
  },
  {
   "cell_type": "markdown",
   "id": "1af5ab20-7f8e-4fc6-9669-374468bf80b0",
   "metadata": {},
   "source": [
    "# Que11"
   ]
  },
  {
   "cell_type": "code",
   "execution_count": 37,
   "id": "285e2d10-0f91-4bc6-98d4-c9f5a81a022b",
   "metadata": {},
   "outputs": [
    {
     "name": "stdin",
     "output_type": "stream",
     "text": [
      "Enter Letter :  u\n"
     ]
    },
    {
     "name": "stdout",
     "output_type": "stream",
     "text": [
      "Your Entered letter is Vowel\n"
     ]
    }
   ],
   "source": [
    "y = str(input(\"Enter Letter : \"))\n",
    "\n",
    "if (y == \"a\",\"e\",\"i\",\"o\",\"u\"):\n",
    "    print(\"Your Entered letter is Vowel\")\n",
    "else:\n",
    "    print (\"Thank you\")"
   ]
  },
  {
   "cell_type": "markdown",
   "id": "5bcf2963-2efc-4cd6-a08d-939688c06ae5",
   "metadata": {},
   "source": [
    "# Que9"
   ]
  },
  {
   "cell_type": "code",
   "execution_count": 42,
   "id": "a712c13d-205c-4f09-861b-636bd1187611",
   "metadata": {},
   "outputs": [
    {
     "name": "stdout",
     "output_type": "stream",
     "text": [
      "Before Swapping : 5 6\n",
      "After Swapping : 6 5\n"
     ]
    }
   ],
   "source": [
    "x = 5\n",
    "y = 6\n",
    "\n",
    "print(\"Before Swapping :\", x, y)\n",
    "\n",
    "x = x+y\n",
    "y = x-y\n",
    "x = x-y\n",
    "\n",
    "print(\"After Swapping :\", x, y)\n"
   ]
  },
  {
   "cell_type": "markdown",
   "id": "e07864d9-6afe-4f49-82e5-7187400a3301",
   "metadata": {},
   "source": [
    "# Que12"
   ]
  },
  {
   "cell_type": "code",
   "execution_count": null,
   "id": "166d69bf-4405-4663-b59d-18b6c731e644",
   "metadata": {},
   "outputs": [],
   "source": [
    "x = int(input(\"Enter Num 1 :\"))\n",
    "y = int(input(\"Enter Num 2 :\"))\n",
    "z = int(input(\"Enter Num 3 :\"))\n",
    "\n",
    "if(x==y or y==z or z==x):\n",
    "    print(\"Addition is : zero\")\n",
    "else:\n",
    "    print(\"Addition is : \", x+y+z)"
   ]
  },
  {
   "cell_type": "markdown",
   "id": "bdbbe49c-1d95-4362-b4ef-93f8a58e4d7a",
   "metadata": {},
   "source": [
    "# Que13"
   ]
  },
  {
   "cell_type": "code",
   "execution_count": 114,
   "id": "aa88c30a-c94d-4d3b-bd87-4558c484fca1",
   "metadata": {},
   "outputs": [
    {
     "name": "stdin",
     "output_type": "stream",
     "text": [
      "Enter Num 1 : 4\n",
      "Enter Num 2 : 6\n"
     ]
    },
    {
     "name": "stdout",
     "output_type": "stream",
     "text": [
      "10\n"
     ]
    }
   ],
   "source": [
    "x = int(input(\"Enter Num 1 :\"))\n",
    "y = int(input(\"Enter Num 2 :\"))\n",
    "\n",
    "if(x+y==5 or x-y==5 or x==5 or y==5):\n",
    "    print(\"True\")\n",
    "    \n",
    "else:\n",
    "    print(x+y)"
   ]
  },
  {
   "cell_type": "markdown",
   "id": "2d47c69d-de98-4ebe-a251-7fdfb49f591d",
   "metadata": {},
   "source": [
    "# Que 15"
   ]
  },
  {
   "cell_type": "code",
   "execution_count": 87,
   "id": "099b5149-ed61-41c9-a4d9-20eaf79bc3b9",
   "metadata": {},
   "outputs": [
    {
     "name": "stdout",
     "output_type": "stream",
     "text": [
      "5\n"
     ]
    }
   ],
   "source": [
    "x = \"Mufiz\"\n",
    "y = len(x)\n",
    "\n",
    "print(y)"
   ]
  },
  {
   "cell_type": "markdown",
   "id": "10673656-4b12-412e-9275-efa1d30d942d",
   "metadata": {},
   "source": [
    "# Que-5"
   ]
  },
  {
   "cell_type": "code",
   "execution_count": 15,
   "id": "50d4983c-ba10-4f95-a7aa-e21671fb308a",
   "metadata": {},
   "outputs": [
    {
     "name": "stdout",
     "output_type": "stream",
     "text": [
      "1\n",
      "2\n",
      "6\n",
      "24\n",
      "120\n"
     ]
    }
   ],
   "source": [
    "a = 5\n",
    "b = 1\n",
    "\n",
    "for n in range(1,a+1):\n",
    "    b = b * n\n",
    "    print(b)"
   ]
  },
  {
   "cell_type": "markdown",
   "id": "c686eec7-c8fb-4846-a584-ee6adf461342",
   "metadata": {},
   "source": [
    "# Que-6"
   ]
  },
  {
   "cell_type": "code",
   "execution_count": 16,
   "id": "89a6b5d9-d297-47f1-b4dc-70f6b879a7cc",
   "metadata": {},
   "outputs": [
    {
     "name": "stdin",
     "output_type": "stream",
     "text": [
      "Enter value of terms :  10\n"
     ]
    },
    {
     "name": "stdout",
     "output_type": "stream",
     "text": [
      "Fibonaci series upto  10  :\n",
      "0\n",
      "1\n",
      "1\n",
      "2\n",
      "3\n",
      "5\n",
      "8\n",
      "13\n",
      "21\n",
      "34\n"
     ]
    }
   ],
   "source": [
    "x = int(input(\"Enter value of terms : \"))\n",
    "n1 = 0\n",
    "n2 = 1\n",
    "count = 0 \n",
    "\n",
    "print(\"Fibonaci series upto \" ,x, \" :\")\n",
    "while count < x:\n",
    "    print(n1)\n",
    "\n",
    "    nth = n1 + n2\n",
    "    n1 = n2 \n",
    "    n2 = nth\n",
    "    count += 1"
   ]
  },
  {
   "cell_type": "markdown",
   "id": "0fd511fc-f2b0-41ed-ad1d-fe9477154e83",
   "metadata": {},
   "source": [
    "# Que-16"
   ]
  },
  {
   "cell_type": "code",
   "execution_count": 39,
   "id": "d2f6e901-ed96-4d95-82c8-38368df17418",
   "metadata": {},
   "outputs": [
    {
     "data": {
      "text/plain": [
       "2"
      ]
     },
     "execution_count": 39,
     "metadata": {},
     "output_type": "execute_result"
    }
   ],
   "source": [
    "x = \"Mufiz is writing a code using refer code\"\n",
    "y = x.count(\"code\")\n",
    "y"
   ]
  },
  {
   "cell_type": "markdown",
   "id": "552fb69d-6c68-45f9-9ae9-3162624e0176",
   "metadata": {},
   "source": [
    "# Que-18"
   ]
  },
  {
   "cell_type": "code",
   "execution_count": 4,
   "id": "6f50b983-809e-4a03-9602-207d45b810e9",
   "metadata": {},
   "outputs": [
    {
     "name": "stdin",
     "output_type": "stream",
     "text": [
      "Enter the main string:  mufiz is writing a python code in pyhton platform\n",
      "Enter the substring to count:  pyhton\n"
     ]
    },
    {
     "name": "stdout",
     "output_type": "stream",
     "text": [
      "The substring '{substring}' occurs {occurrences} times in the main string.\n"
     ]
    }
   ],
   "source": [
    "def count_substring(main_string, substring):\n",
    "    return main_string.count(substring)\n",
    "\n",
    "main_string = input(\"Enter the main string: \")\n",
    "substring = input(\"Enter the substring to count: \")\n",
    "\n",
    "occurrences = count_substring_occurrences(main_string, substring)\n",
    "\n",
    "print(f\"The substring '{substring}' occurs {occurrences} times in the main string.\")"
   ]
  },
  {
   "cell_type": "markdown",
   "id": "19c256f7-04a7-4f5c-9f91-e4db39faedf7",
   "metadata": {},
   "source": [
    "# Que-22"
   ]
  },
  {
   "cell_type": "code",
   "execution_count": 11,
   "id": "c7e2dcc8-a450-40fb-936d-0b231e2855c6",
   "metadata": {},
   "outputs": [
    {
     "name": "stdin",
     "output_type": "stream",
     "text": [
      "Enter a string:  abcd\n"
     ]
    },
    {
     "name": "stdout",
     "output_type": "stream",
     "text": [
      "Result: dcba\n"
     ]
    }
   ],
   "source": [
    "s = input(\"Enter a string: \")\n",
    "\n",
    "if len(s) % 4 == 0:\n",
    "    result = s[::-1]\n",
    "else:\n",
    "    result = s\n",
    "\n",
    "print(\"Result:\", result)\n"
   ]
  },
  {
   "cell_type": "markdown",
   "id": "f01da7ba-a642-4697-8e1e-73c6380f3073",
   "metadata": {},
   "source": [
    "# Que-24"
   ]
  },
  {
   "cell_type": "code",
   "execution_count": 24,
   "id": "a7478c49-cdc4-4c26-85a9-07e540fd9565",
   "metadata": {},
   "outputs": [
    {
     "name": "stdin",
     "output_type": "stream",
     "text": [
      "Enter the original string:  abcdef\n",
      "Enter the string to insert:  ****\n"
     ]
    },
    {
     "name": "stdout",
     "output_type": "stream",
     "text": [
      "Resulting string: abc****def\n"
     ]
    }
   ],
   "source": [
    "string = input(\"Enter the original string: \")\n",
    "insert_string = input(\"Enter the string to insert: \")\n",
    "\n",
    "middle = len(string) // 2\n",
    "\n",
    "result = string[:middle] + insert_string + string[middle:]\n",
    "\n",
    "print(\"Resulting string:\", result)\n"
   ]
  },
  {
   "cell_type": "markdown",
   "id": "45c041c5-5850-416c-a4aa-787c47053cdf",
   "metadata": {},
   "source": [
    "# Que-29"
   ]
  },
  {
   "cell_type": "code",
   "execution_count": 30,
   "id": "c1c41a2c-24ae-4601-87b5-f176b7234f65",
   "metadata": {},
   "outputs": [
    {
     "name": "stdout",
     "output_type": "stream",
     "text": [
      "Largest number: 5\n",
      "Smallest number: 2\n",
      "Sum of all numbers: 11\n"
     ]
    }
   ],
   "source": [
    "numbers = [2, 4, 5]\n",
    "\n",
    "if len(numbers) == 0:\n",
    "    print(\"The list is empty.\")\n",
    "else:\n",
    "    largest = numbers[0]\n",
    "    smallest = numbers[0]\n",
    "    total_sum = 0\n",
    "\n",
    "    for num in numbers:\n",
    "        if num > largest:\n",
    "            largest = num\n",
    "        if num < smallest:\n",
    "            smallest = num\n",
    "        total_sum += num\n",
    "\n",
    "    print(\"Largest number:\", largest)\n",
    "    print(\"Smallest number:\", smallest)\n",
    "    print(\"Sum of all numbers:\", total_sum)\n"
   ]
  },
  {
   "cell_type": "markdown",
   "id": "46391f26-a5f2-413d-8d64-834f1c151fb2",
   "metadata": {},
   "source": [
    "# Que-32"
   ]
  },
  {
   "cell_type": "code",
   "execution_count": 10,
   "id": "57f302f9-2fe5-4bcf-a33c-c00e8fb6ded8",
   "metadata": {},
   "outputs": [
    {
     "name": "stdout",
     "output_type": "stream",
     "text": [
      "Original list: [1, 2, 2, 3, 4, 4, 5]\n",
      "List after removing duplicates: [1, 2, 3, 4, 5]\n"
     ]
    }
   ],
   "source": [
    "x = [1, 2, 2, 3, 4, 4, 5]\n",
    "\n",
    "new_list = list(set(x))\n",
    "\n",
    "print(\"Original list:\", x)\n",
    "print(\"List after removing duplicates:\", new_list)\n"
   ]
  },
  {
   "cell_type": "markdown",
   "id": "a9753f7a-be57-406b-a736-8079d6ce2a70",
   "metadata": {},
   "source": [
    "# Que-33"
   ]
  },
  {
   "cell_type": "code",
   "execution_count": 15,
   "id": "85dc3543-eae0-4555-9fdf-fad61bc2009a",
   "metadata": {},
   "outputs": [
    {
     "name": "stdout",
     "output_type": "stream",
     "text": [
      "The list is not empty.\n"
     ]
    }
   ],
   "source": [
    "a = [1, 2, 3]\n",
    "\n",
    "if not a:\n",
    "    print(\"The list is empty.\")\n",
    "else:\n",
    "    print(\"The list is not empty.\")\n"
   ]
  },
  {
   "cell_type": "markdown",
   "id": "7192e02d-e6c3-491b-8c8e-8d1ba90c547f",
   "metadata": {},
   "source": [
    "# Que-34"
   ]
  },
  {
   "cell_type": "code",
   "execution_count": 21,
   "id": "47731f7f-fffd-4935-9cf8-c76ae455a38a",
   "metadata": {},
   "outputs": [
    {
     "name": "stdout",
     "output_type": "stream",
     "text": [
      "The lists have at least one common member.\n"
     ]
    }
   ],
   "source": [
    "x = [1, 2, 3, 4]\n",
    "y = [5, 6, 3, 8]\n",
    "\n",
    "common = False\n",
    "\n",
    "for item in x:\n",
    "    if item in y:\n",
    "        common = True\n",
    "        break  \n",
    "\n",
    "if common_found:\n",
    "    print(\"The lists have at least one common member.\")\n",
    "else:\n",
    "    print(\"The lists do not have any common members.\")\n"
   ]
  },
  {
   "cell_type": "markdown",
   "id": "126b6240-43cb-4ee5-b78f-74557f4211a3",
   "metadata": {},
   "source": [
    "# Que-35"
   ]
  },
  {
   "cell_type": "code",
   "execution_count": 26,
   "id": "3c8840d8-e1cf-4121-8f07-f5a5ded184f7",
   "metadata": {},
   "outputs": [
    {
     "name": "stdout",
     "output_type": "stream",
     "text": [
      "First 5 elements: [1, 4, 9, 16, 25]\n",
      "Last 5 elements: [676, 729, 784, 841, 900]\n"
     ]
    }
   ],
   "source": [
    "list = []\n",
    "for i in range(1, 31):\n",
    "    list.append(i ** 2)\n",
    "\n",
    "first = squares[:5]\n",
    "\n",
    "last = squares[-5:]\n",
    "\n",
    "print(\"First 5 elements:\", first)\n",
    "print(\"Last 5 elements:\", last)\n"
   ]
  },
  {
   "cell_type": "markdown",
   "id": "22999ea8-1099-4d67-be7a-8577109b078a",
   "metadata": {},
   "source": [
    "# Que-36"
   ]
  },
  {
   "cell_type": "code",
   "execution_count": 29,
   "id": "aa6a03c9-92d7-459a-b4fc-ed02d6eed9b8",
   "metadata": {},
   "outputs": [
    {
     "name": "stdout",
     "output_type": "stream",
     "text": [
      "Original list: [1, 2, 2, 3, 4, 4, 5]\n",
      "List with unique elements: [1, 2, 3, 4, 5]\n"
     ]
    }
   ],
   "source": [
    "def unique_elements(input_list):\n",
    "    # Create an empty list to store unique elements\n",
    "    unique_list = []\n",
    "    # Create a set to track seen elements\n",
    "    seen = set()\n",
    "    \n",
    "    # Iterate through the input list\n",
    "    for item in input_list:\n",
    "        # If the item is not in the seen set, it's unique\n",
    "        if item not in seen:\n",
    "            unique_list.append(item)  # Add the unique item to the result list\n",
    "            seen.add(item)  # Mark the item as seen\n",
    "    \n",
    "    return unique_list\n",
    "\n",
    "# Example usage\n",
    "my_list = [1, 2, 2, 3, 4, 4, 5]\n",
    "result = unique_elements(my_list)\n",
    "print(\"Original list:\", my_list)\n",
    "print(\"List with unique elements:\", result)\n"
   ]
  },
  {
   "cell_type": "markdown",
   "id": "93e232a5-5648-48f8-8597-011190e75b4a",
   "metadata": {},
   "source": [
    "# que-37"
   ]
  },
  {
   "cell_type": "code",
   "execution_count": 34,
   "id": "fc6e9dc5-cb57-4905-b016-5dd2c7e4b019",
   "metadata": {},
   "outputs": [
    {
     "name": "stdout",
     "output_type": "stream",
     "text": [
      "The resulting string is: Hello World\n"
     ]
    }
   ],
   "source": [
    "list = ['H', 'e', 'l', 'l', 'o', ' ', 'W', 'o', 'r', 'l', 'd']\n",
    "\n",
    "result = \"\"\n",
    "\n",
    "for x in list:\n",
    "    result += x\n",
    "\n",
    "print(\"The resulting string is:\", result)\n"
   ]
  },
  {
   "cell_type": "markdown",
   "id": "fc4f9efd-32bb-46fe-bb92-9ee9fafd9038",
   "metadata": {},
   "source": [
    "# Que-38"
   ]
  },
  {
   "cell_type": "code",
   "execution_count": 55,
   "id": "798cbb23-5071-4083-bb59-cf1f0ae6cbdf",
   "metadata": {},
   "outputs": [
    {
     "name": "stdout",
     "output_type": "stream",
     "text": [
      "Randomly selected item: cherry\n"
     ]
    }
   ],
   "source": [
    "import random\n",
    "\n",
    "x = ['apple', 'banana', 'cherry', 'date', 'elderberry']\n",
    "\n",
    "random = random.choice(x)\n",
    "\n",
    "print(\"Randomly selected item:\", random)\n"
   ]
  },
  {
   "cell_type": "markdown",
   "id": "1a1c8605-0881-4379-9364-e97b2a9ea5d5",
   "metadata": {},
   "source": [
    "# Que-39"
   ]
  },
  {
   "cell_type": "code",
   "execution_count": 102,
   "id": "7a611c4b-d3e4-4526-9e0d-817ca1fb27aa",
   "metadata": {},
   "outputs": [
    {
     "name": "stdout",
     "output_type": "stream",
     "text": [
      "The second smallest number is: 2\n"
     ]
    }
   ],
   "source": [
    "list = [5, 2, 9, 1, 7, 3, 8]\n",
    "\n",
    "list.sort()\n",
    "\n",
    "if len(list) >= 2:\n",
    "    second = list[1]\n",
    "    print(\"The second smallest number is:\", second)\n",
    "else:\n",
    "    print(\"NOT!!!!!\")\n"
   ]
  },
  {
   "cell_type": "markdown",
   "id": "f5f2b9fb-c63d-4e9c-965a-e995e055db95",
   "metadata": {},
   "source": [
    "# Que-40"
   ]
  },
  {
   "cell_type": "code",
   "execution_count": 111,
   "id": "8356d4ab-e8d4-458e-b005-9c0345b80402",
   "metadata": {},
   "outputs": [
    {
     "name": "stdout",
     "output_type": "stream",
     "text": [
      "Unique values in the list: [1, 2, 3, 4, 5, 6]\n"
     ]
    }
   ],
   "source": [
    "z = [1, 2, 2, 3, 4, 4, 5, 5, 6]\n",
    "\n",
    "unique_list = []\n",
    "\n",
    "for i in z:\n",
    "    if i not in unique_list:\n",
    "        unique_list.append(i)\n",
    "\n",
    "print(\"Unique values in the list:\", unique_list)\n"
   ]
  },
  {
   "cell_type": "markdown",
   "id": "65ba0437-1f0e-4e22-8ee3-74a64923f97d",
   "metadata": {},
   "source": [
    "# Que-42"
   ]
  },
  {
   "cell_type": "code",
   "execution_count": 114,
   "id": "2def9723-b6d5-434b-9e87-dd948f520968",
   "metadata": {},
   "outputs": [
    {
     "name": "stdout",
     "output_type": "stream",
     "text": [
      "Variable 1: 1\n",
      "Variable 2: 2\n",
      "Variable 3: 3\n",
      "Variable 4: 4\n",
      "Variable 5: 5\n"
     ]
    }
   ],
   "source": [
    "my_list = [1, 2, 3, 4, 5]\n",
    "\n",
    "var1, var2, var3, var4, var5 = my_list\n",
    "\n",
    "print(\"Variable 1:\", var1)\n",
    "print(\"Variable 2:\", var2)\n",
    "print(\"Variable 3:\", var3)\n",
    "print(\"Variable 4:\", var4)\n",
    "print(\"Variable 5:\", var5)\n"
   ]
  },
  {
   "cell_type": "markdown",
   "id": "4e8f2466-4e71-4b89-8616-4481627ee9ea",
   "metadata": {},
   "source": [
    "# Que-44"
   ]
  },
  {
   "cell_type": "code",
   "execution_count": 2,
   "id": "391e443f-ed77-4e7a-bf6e-b02c6fb5ef21",
   "metadata": {},
   "outputs": [
    {
     "name": "stdout",
     "output_type": "stream",
     "text": [
      "('hello', 67, 45, 'good', 67)\n",
      "<class 'tuple'>\n"
     ]
    }
   ],
   "source": [
    "y = (\"hello\",67,45,\"good\",67)\n",
    "print(y)\n",
    "print(type(y))"
   ]
  },
  {
   "cell_type": "markdown",
   "id": "b77b291e-902c-4459-af4a-67dc23317179",
   "metadata": {},
   "source": [
    "# Que - 45"
   ]
  },
  {
   "cell_type": "code",
   "execution_count": 39,
   "id": "edd07c3a-f000-4850-b53a-94987ad0ef98",
   "metadata": {},
   "outputs": [
    {
     "data": {
      "text/plain": [
       "['red', 2, 'blue']"
      ]
     },
     "execution_count": 39,
     "metadata": {},
     "output_type": "execute_result"
    }
   ],
   "source": [
    "tuple = (\"red\", 2, \"blue\")\n",
    "\n",
    "listt = list(tuple)\n",
    "\n",
    "listt\n"
   ]
  },
  {
   "cell_type": "markdown",
   "id": "5c504a3a-61ca-42bd-a44b-fd6f3b0a0640",
   "metadata": {},
   "source": [
    "# Que - 46"
   ]
  },
  {
   "cell_type": "code",
   "execution_count": 48,
   "id": "682b3fb8-2ee6-4f88-a0cc-8e3070a0521c",
   "metadata": {},
   "outputs": [
    {
     "name": "stdout",
     "output_type": "stream",
     "text": [
      "{'a': 1, 'b': 2, 'c': 3}\n"
     ]
    }
   ],
   "source": [
    "# Example list of tuples\n",
    "x = [('a', 1), ('b', 2), ('c', 3)]\n",
    "\n",
    "# Convert the list of tuples to a dictionary\n",
    "dic = {key: value for key, value in x}\n",
    "\n",
    "print(dic)\n"
   ]
  },
  {
   "cell_type": "markdown",
   "id": "b5718674-6e93-46fa-98aa-24886e58caa9",
   "metadata": {},
   "source": [
    "# Que - 48"
   ]
  },
  {
   "cell_type": "code",
   "execution_count": 13,
   "id": "60ce178e-8867-422d-b9ae-e807c3c6f864",
   "metadata": {},
   "outputs": [
    {
     "name": "stdout",
     "output_type": "stream",
     "text": [
      "Sorted by value (ascending):\n",
      "{'banana': 1, 'cherry': 2, 'apple': 3}\n",
      "Sorted by value (descending):\n",
      "{'apple': 3, 'cherry': 2, 'banana': 1}\n"
     ]
    }
   ],
   "source": [
    "dict1 = {'apple': 3, 'banana': 1, 'cherry': 2}\n",
    "\n",
    "asc = dict(sorted(dict1.items(), key=lambda item: item[1]))\n",
    "\n",
    "des = dict(sorted(dict1.items(), key=lambda item: item[1], reverse=True))\n",
    "\n",
    "print(\"Sorted by value (ascending):\")\n",
    "print(asc)\n",
    "\n",
    "print(\"Sorted by value (descending):\")\n",
    "print(des)"
   ]
  },
  {
   "cell_type": "markdown",
   "id": "ed6cf0f0-c6de-4eea-b901-aa491ffc281e",
   "metadata": {},
   "source": [
    "# Que - 49"
   ]
  },
  {
   "cell_type": "code",
   "execution_count": 24,
   "id": "a435c464-a632-469c-b1ad-74ac3b3a8801",
   "metadata": {},
   "outputs": [
    {
     "name": "stdout",
     "output_type": "stream",
     "text": [
      "Combined dictionary =  {'a': 1, 'b': 2, 'c': 3, 'd': 4, 'e': 5, 'f': 6}\n"
     ]
    }
   ],
   "source": [
    "# Example dictionaries\n",
    "dict1 = {'a': 1, 'b': 2}\n",
    "dict2 = {'c': 3, 'd': 4}\n",
    "dict3 = {'e': 5, 'f': 6}\n",
    "\n",
    "# Concatenate dictionaries using unpacking\n",
    "comb = {**dict1, **dict2, **dict3}\n",
    "\n",
    "print(\"Combined dictionary = \",comb)"
   ]
  },
  {
   "cell_type": "markdown",
   "id": "6a0aec8c-9798-4f0f-a451-c4ce67ca63ef",
   "metadata": {},
   "source": [
    "# Que - 50"
   ]
  },
  {
   "cell_type": "code",
   "execution_count": 30,
   "id": "bf9a290b-cf86-41f4-a698-d7bf5eea1162",
   "metadata": {},
   "outputs": [
    {
     "name": "stdout",
     "output_type": "stream",
     "text": [
      "The key 'age' exists in the dictionary.\n"
     ]
    }
   ],
   "source": [
    "y = {'name': 'Alice', 'age': 30, 'city': 'New York'}\n",
    "\n",
    "keyy = 'age'\n",
    "\n",
    "if keyy in y:\n",
    "    print(f\"The key '{keyy}' exists in the dictionary.\")\n",
    "else:\n",
    "    print(f\"The key '{keyy}' does not exist in the dictionary.\")"
   ]
  },
  {
   "cell_type": "markdown",
   "id": "e2979cf7-22b1-4184-8310-0d5e3cb35297",
   "metadata": {},
   "source": [
    "# Que - 53"
   ]
  },
  {
   "cell_type": "code",
   "execution_count": 37,
   "id": "9dd3d2b9-2cda-496a-a53e-8ac8193f6ef2",
   "metadata": {},
   "outputs": [
    {
     "name": "stdout",
     "output_type": "stream",
     "text": [
      "Dictionary with keys between 1 and 15:\n",
      "{1: None, 2: None, 3: None, 4: None, 5: None, 6: None, 7: None, 8: None, 9: None, 10: None, 11: None, 12: None, 13: None, 14: None, 15: None}\n"
     ]
    }
   ],
   "source": [
    "my_dict = {key: None for key in range(1, 16)}\n",
    "\n",
    "print(\"Dictionary with keys between 1 and 15:\")\n",
    "print(my_dict)"
   ]
  },
  {
   "cell_type": "markdown",
   "id": "1cec09f5-1104-4384-96b8-fd454120a128",
   "metadata": {},
   "source": [
    "# Que- 54"
   ]
  },
  {
   "cell_type": "code",
   "execution_count": 69,
   "id": "03023b88-170a-4a0c-a070-90f6f6548b7a",
   "metadata": {},
   "outputs": [
    {
     "name": "stdout",
     "output_type": "stream",
     "text": [
      "The key 'country' does not exist in the dictionary.\n"
     ]
    }
   ],
   "source": [
    "m = {'name': 'Alice', 'age': 30, 'city': 'New York', 'email': 'alice@example.com'}\n",
    "\n",
    "keys = ['age', 'city', 'country']\n",
    "\n",
    "all = True\n",
    "for i in keys:\n",
    "    if i not in m:\n",
    "        all = False\n",
    "        print(f\"The key '{i}' does not exist in the dictionary.\")\n",
    "\n",
    "if all:\n",
    "    print(\"All keys exist in the dictionary.\")\n"
   ]
  },
  {
   "cell_type": "markdown",
   "id": "83cf6e55-6639-42a3-aff7-810ae49ede00",
   "metadata": {},
   "source": [
    "# Que - 55"
   ]
  },
  {
   "cell_type": "markdown",
   "id": "2fdbcb9e-2959-420c-a776-3b2da7b72ca7",
   "metadata": {},
   "source": [
    "dict1 = {'a': 1, 'b': 2}\n",
    "dict2 = {'c': 3, 'd': 4}\n",
    "\n",
    "merge = {**dict1, **dict2}\n",
    "\n",
    "print(\"Merged dictionary : \", merge)\n"
   ]
  },
  {
   "cell_type": "markdown",
   "id": "bb437dd2-f2a2-445b-974a-a0a51bf791c3",
   "metadata": {},
   "source": [
    "# Que - 56"
   ]
  },
  {
   "cell_type": "code",
   "execution_count": 93,
   "id": "72588506-a80c-4b32-9c5f-625ff30c55e2",
   "metadata": {},
   "outputs": [
    {
     "name": "stdout",
     "output_type": "stream",
     "text": [
      "Counter ({'a': 400, 'b': 400, 'c': 300, 'd': 400})\n"
     ]
    }
   ],
   "source": [
    "k = ['a', 'b', 'c', 'd']\n",
    "v = [400, 400, 300, 400]\n",
    "\n",
    "j = {}\n",
    "\n",
    "for i in range(len(k)):\n",
    "    j[k[i]] = v[i]\n",
    "\n",
    "print(\"Counter ({})\".format(j))\n"
   ]
  },
  {
   "cell_type": "markdown",
   "id": "ce21f3ee-54a6-4a33-8d99-3061ba857b83",
   "metadata": {},
   "source": [
    "# Que -57"
   ]
  },
  {
   "cell_type": "code",
   "execution_count": 104,
   "id": "eab1830f-cceb-41fe-b8c4-e4eff751b6a6",
   "metadata": {},
   "outputs": [
    {
     "name": "stdout",
     "output_type": "stream",
     "text": [
      "The highest 3 values in the dictionary are :  99 78 56\n"
     ]
    }
   ],
   "source": [
    "my = {'a': 10, 'b': 45, 'c': 32, 'd': 78, 'e': 56, 'f': 99}\n",
    "\n",
    "values = list(my.values())\n",
    "\n",
    "values.sort(reverse=True)\n",
    "\n",
    "print(\"The highest 3 values in the dictionary are : \", values[0], values[1], values[2])"
   ]
  },
  {
   "cell_type": "markdown",
   "id": "cc1d4b4b-0f58-41e4-ba41-65704dfc4fcc",
   "metadata": {},
   "source": [
    "# Que - 60"
   ]
  },
  {
   "cell_type": "code",
   "execution_count": 143,
   "id": "9701a4f5-cdf0-4215-8754-e746f3d3eb8a",
   "metadata": {},
   "outputs": [
    {
     "name": "stdout",
     "output_type": "stream",
     "text": [
      "Character count dictionary : {'w': 1, '3': 1, 'r': 2, 'e': 2, 's': 1, 'o': 1, 'u': 1, 'c': 1}\n"
     ]
    }
   ],
   "source": [
    "s = 'w3resource'\n",
    "\n",
    "co = {}\n",
    "\n",
    "for char in s:\n",
    "    if char in co:\n",
    "        co[char] += 1\n",
    "    else:\n",
    "        co[char] = 1\n",
    "\n",
    "print(\"Character count dictionary :\", co)\n"
   ]
  },
  {
   "cell_type": "markdown",
   "id": "e360170d-590e-4f32-a5a0-eb9d5c5866f9",
   "metadata": {},
   "source": [
    "# Que - 61"
   ]
  },
  {
   "cell_type": "code",
   "execution_count": 169,
   "id": "fbdc6661-6673-42e9-966d-41a61058f8c9",
   "metadata": {},
   "outputs": [
    {
     "name": "stdin",
     "output_type": "stream",
     "text": [
      "Enter any number :  4\n"
     ]
    },
    {
     "name": "stdout",
     "output_type": "stream",
     "text": [
      "Factorial of 4 : 24\n"
     ]
    }
   ],
   "source": [
    "def factorial(n):\n",
    "    if n < 0:\n",
    "        print(\"Input must be a non-negative integer\")\n",
    "    if n == 0 or n == 1:\n",
    "        return 1\n",
    "    return n * factorial(n - 1)\n",
    "\n",
    "number = int(input(\"Enter any number : \"))\n",
    "print(f\"Factorial of {number} : {factorial(number)}\")\n"
   ]
  },
  {
   "cell_type": "markdown",
   "id": "eb8ac69e-b818-440c-b419-3e0f86153e23",
   "metadata": {},
   "source": [
    "# Que - 62"
   ]
  },
  {
   "cell_type": "code",
   "execution_count": 180,
   "id": "ac962915-8c85-47d1-a399-d432687915eb",
   "metadata": {},
   "outputs": [
    {
     "name": "stdin",
     "output_type": "stream",
     "text": [
      "Enter any number :  11\n"
     ]
    },
    {
     "name": "stdout",
     "output_type": "stream",
     "text": [
      "False\n"
     ]
    }
   ],
   "source": [
    "def in_range(number, start, end):\n",
    "\n",
    "    if start <= number <= end:\n",
    "        return True\n",
    "    else:\n",
    "        return False\n",
    "\n",
    "num = int(input(\"Enter any number : \"))\n",
    "rs = 1\n",
    "re = 10\n",
    "\n",
    "result = in_range(num, rs, re)\n",
    "\n",
    "print(result)"
   ]
  },
  {
   "cell_type": "markdown",
   "id": "291a36c0-a954-4a7a-8eb8-2b93becb005e",
   "metadata": {},
   "source": [
    "# Que - 64"
   ]
  },
  {
   "cell_type": "code",
   "execution_count": 2,
   "id": "dd6a47fd-0958-459a-b144-6341eb61708a",
   "metadata": {},
   "outputs": [
    {
     "name": "stdout",
     "output_type": "stream",
     "text": [
      "True\n",
      "False\n"
     ]
    }
   ],
   "source": [
    "def is_palindrome(s):\n",
    "    return s == s[::-1]\n",
    "\n",
    "print(is_palindrome(\"racecar\"))  # Output: True\n",
    "print(is_palindrome(\"hello\"))    # Output: False"
   ]
  },
  {
   "cell_type": "markdown",
   "id": "ade9acec-5c04-419b-9aa9-867b96dbffc1",
   "metadata": {},
   "source": [
    "# Que -72"
   ]
  },
  {
   "cell_type": "code",
   "execution_count": 14,
   "id": "f2afa520-cffc-4d03-88cc-4e14546182b2",
   "metadata": {},
   "outputs": [
    {
     "data": {
      "text/plain": [
       "29"
      ]
     },
     "execution_count": 14,
     "metadata": {},
     "output_type": "execute_result"
    }
   ],
   "source": [
    "g = open(\"MUFIZ.txt\",\"w\")\n",
    "g.write(\"sessoin for python coding....\")\n"
   ]
  },
  {
   "cell_type": "code",
   "execution_count": 20,
   "id": "67751469-ebb5-4934-97d9-3922a6defd26",
   "metadata": {},
   "outputs": [
    {
     "name": "stdout",
     "output_type": "stream",
     "text": [
      "sessoin for python coding....\n"
     ]
    }
   ],
   "source": [
    "g = open(\"MUFIZ.txt\",\"r\")\n",
    "print(g.read())\n",
    "g.close()"
   ]
  },
  {
   "cell_type": "markdown",
   "id": "f1b3563c-ee21-426f-b467-b03aea72793b",
   "metadata": {},
   "source": [
    "# Que -73"
   ]
  },
  {
   "cell_type": "code",
   "execution_count": 25,
   "id": "753fbfb5-7917-4619-ad64-263d7aa25dec",
   "metadata": {},
   "outputs": [],
   "source": [
    "g = open(\"MUFIZ.txt\",\"a\")\n",
    "g.write(\"@@@ Add data @@@@\")\n",
    "g.close()"
   ]
  },
  {
   "cell_type": "code",
   "execution_count": 29,
   "id": "6205efae-2c8e-4679-9fc6-6b0f2a57229d",
   "metadata": {},
   "outputs": [
    {
     "name": "stdout",
     "output_type": "stream",
     "text": [
      "sessoin for python coding....@@@ Add data @@@@@@@ Add data @@@@\n"
     ]
    }
   ],
   "source": [
    "g = open(\"MUFIZ.txt\",\"r\")\n",
    "print(g.read())\n",
    "g.close()"
   ]
  },
  {
   "cell_type": "markdown",
   "id": "95cd8815-14ed-4ddf-9080-e3896ccf8c5e",
   "metadata": {},
   "source": [
    "# Que - 74"
   ]
  },
  {
   "cell_type": "code",
   "execution_count": 32,
   "id": "c07bedd7-ad63-4edf-b3fa-0c7411f01b6e",
   "metadata": {},
   "outputs": [
    {
     "name": "stdout",
     "output_type": "stream",
     "text": [
      "sessoin for python coding....@@@ Add data @@@@@@@ Add data @@@@\n"
     ]
    }
   ],
   "source": [
    "res = 1\n",
    "nm = open(\"MUFIZ.txt\",\"r\")\n",
    "curr = 1\n",
    "for n in nm:\n",
    "    if curr == res:\n",
    "        print(n)\n",
    "        break\n",
    "    curr = curr+1"
   ]
  },
  {
   "cell_type": "markdown",
   "id": "c8ad9011-77ea-4138-b54a-1afc2839c62a",
   "metadata": {},
   "source": [
    "# Que - 75 "
   ]
  },
  {
   "cell_type": "code",
   "execution_count": 35,
   "id": "40099a4e-e365-478f-b8b6-ceedbb4ff8bb",
   "metadata": {},
   "outputs": [
    {
     "name": "stdout",
     "output_type": "stream",
     "text": [
      "xyz\n"
     ]
    }
   ],
   "source": [
    "res = 3\n",
    "nm = open(\"MUFIZ.txt\",\"r\")\n",
    "curr = 1\n",
    "for n in nm:\n",
    "    if curr == res:\n",
    "        print(n)\n",
    "        break\n",
    "    curr = curr+1"
   ]
  },
  {
   "cell_type": "markdown",
   "id": "544c56bf-5069-4e14-a821-ff69f1c75a6e",
   "metadata": {},
   "source": [
    "# Que - 76"
   ]
  },
  {
   "cell_type": "code",
   "execution_count": 4,
   "id": "f588326b-02f5-42ca-b714-b498885f86d4",
   "metadata": {},
   "outputs": [
    {
     "name": "stdout",
     "output_type": "stream",
     "text": [
      "['sessoin for python coding....@@@ Add data @@@@@@@ Add data @@@@', 'abc', 'xyz']\n"
     ]
    }
   ],
   "source": [
    "filename = 'MUFIZ.txt'\n",
    "\n",
    "l1 = []\n",
    "\n",
    "with open(filename, 'r') as file:\n",
    "    for line in file:\n",
    "        l1.append(line.strip())\n",
    "\n",
    "print(l1)\n"
   ]
  },
  {
   "cell_type": "markdown",
   "id": "cb4e6ee6-2a6c-4a7d-ba41-5d5fd3b86a3d",
   "metadata": {},
   "source": [
    "# Que - 77"
   ]
  },
  {
   "cell_type": "code",
   "execution_count": 11,
   "id": "935e1b6e-979e-4ef2-9032-d47a461e5764",
   "metadata": {},
   "outputs": [
    {
     "name": "stdout",
     "output_type": "stream",
     "text": [
      "sessoin for python coding....@@@ Add data @@@@@@@ Add data @@@@\n",
      "abc\n",
      "xyz\n"
     ]
    }
   ],
   "source": [
    "filename1 = 'MUFIZ.txt'\n",
    "\n",
    "o = \"\"\n",
    "\n",
    "with open(filename1, 'r') as file:\n",
    "    for line in file:\n",
    "        o += line\n",
    "\n",
    "print(o)\n"
   ]
  },
  {
   "cell_type": "markdown",
   "id": "25ce1b34-3544-42c8-9ea4-53f48cb59c46",
   "metadata": {},
   "source": [
    "# Que - 78"
   ]
  },
  {
   "cell_type": "code",
   "execution_count": 21,
   "id": "787f4846-f49f-42c6-9ab8-742eb9ce66aa",
   "metadata": {},
   "outputs": [
    {
     "name": "stdout",
     "output_type": "stream",
     "text": [
      "Longest words: ['coding....@@@']\n"
     ]
    }
   ],
   "source": [
    "filename2 = 'MUFIZ.txt'\n",
    "\n",
    "words = []\n",
    "\n",
    "with open(filename2, 'r') as file:\n",
    "    for line in file:\n",
    "        words.extend(line.split())\n",
    "\n",
    "max_length = 0\n",
    "longest_words = []\n",
    "\n",
    "for word in words:\n",
    "    word_length = len(word)\n",
    "    if word_length > max_length:\n",
    "        max_length = word_length\n",
    "        longest_words = [word]\n",
    "    elif word_length == max_length:\n",
    "        longest_words.append(word)\n",
    "\n",
    "print(\"Longest words:\", longest_words)\n"
   ]
  },
  {
   "cell_type": "markdown",
   "id": "d5c2f99f-6e47-4973-b233-6902d775ec0b",
   "metadata": {},
   "source": [
    "# Que - 79"
   ]
  },
  {
   "cell_type": "code",
   "execution_count": 23,
   "id": "ceaf1600-28d6-43f0-868a-51746f0e3c61",
   "metadata": {},
   "outputs": [
    {
     "name": "stdout",
     "output_type": "stream",
     "text": [
      "Number of lines: 3\n"
     ]
    }
   ],
   "source": [
    "filename3 = 'MUFIZ.txt'\n",
    "\n",
    "line_count = 0\n",
    "\n",
    "with open(filename3, 'r') as file:\n",
    "    for line in file:\n",
    "        line_count += 1\n",
    "\n",
    "print(\"Number of lines:\", line_count)\n"
   ]
  },
  {
   "cell_type": "markdown",
   "id": "b0b4159d-b105-4c7e-84b6-d911af3a7697",
   "metadata": {},
   "source": [
    "# Que - 81"
   ]
  },
  {
   "cell_type": "code",
   "execution_count": 28,
   "id": "3d43c0c5-b073-4110-b7df-1a9292acffa0",
   "metadata": {},
   "outputs": [
    {
     "name": "stdout",
     "output_type": "stream",
     "text": [
      "List has been written to  output.txt\n"
     ]
    }
   ],
   "source": [
    "l2 = ['apple', 'banana', 'cherry', 'date']\n",
    "\n",
    "filename4 = 'output.txt'\n",
    "\n",
    "with open(filename4, 'w') as file:\n",
    "    for item in l2:\n",
    "        file.write(item + '\\n')\n",
    "\n",
    "print(\"List has been written to \", filename4)\n"
   ]
  },
  {
   "cell_type": "markdown",
   "id": "fcb2defb-01b4-4059-99b9-0ce79df4ed39",
   "metadata": {},
   "source": [
    "# Que - 82"
   ]
  },
  {
   "cell_type": "code",
   "execution_count": 37,
   "id": "de9e82d4-9a16-42c4-ae27-d27ae6c41d89",
   "metadata": {},
   "outputs": [
    {
     "name": "stdout",
     "output_type": "stream",
     "text": [
      "Contents of  {<_io.TextIOWrapper name='MUFIZ.txt' mode='r' encoding='cp1252'>}  have been copied to  {<_io.TextIOWrapper name='destination.txt' mode='w' encoding='cp1252'>}\n"
     ]
    }
   ],
   "source": [
    "sf = 'MUFIZ.txt'\n",
    "df = 'destination.txt'\n",
    "\n",
    "sf = open(sf, 'r')\n",
    "\n",
    "df = open(df, 'w')\n",
    "\n",
    "for line in sf:\n",
    "    df.write(line)\n",
    "\n",
    "sf.close()\n",
    "df.close()\n",
    "\n",
    "print(\"Contents of \",{sf},\" have been copied to \",{df})\n"
   ]
  },
  {
   "cell_type": "markdown",
   "id": "a39c483e-c78b-4f24-a516-e2785b97bc23",
   "metadata": {},
   "source": [
    "# Que - 90"
   ]
  },
  {
   "cell_type": "code",
   "execution_count": 46,
   "id": "bce0f175-ec4d-42f8-a3f2-f659b61652c0",
   "metadata": {},
   "outputs": [
    {
     "name": "stdin",
     "output_type": "stream",
     "text": [
      "Enter an odd number:  10\n"
     ]
    },
    {
     "name": "stdout",
     "output_type": "stream",
     "text": [
      "Error: The number is not odd. Please enter an odd number.\n"
     ]
    },
    {
     "name": "stdin",
     "output_type": "stream",
     "text": [
      "Enter an odd number:  5\n"
     ]
    },
    {
     "name": "stdout",
     "output_type": "stream",
     "text": [
      "You entered the odd number:  5\n"
     ]
    }
   ],
   "source": [
    "while True:\n",
    "    try:\n",
    "        p = input(\"Enter an odd number: \")\n",
    "        \n",
    "        number = int(p)\n",
    "        \n",
    "        if number % 2 == 0:\n",
    "            print(\"Error: The number is not odd. Please enter an odd number.\")\n",
    "        else:\n",
    "            print(\"You entered the odd number: \",number)\n",
    "            break\n",
    "\n",
    "    except ValueError:\n",
    "        print(\"Error: Invalid input. Please enter a valid integer.\")\n"
   ]
  }
 ],
 "metadata": {
  "kernelspec": {
   "display_name": "Python 3 (ipykernel)",
   "language": "python",
   "name": "python3"
  },
  "language_info": {
   "codemirror_mode": {
    "name": "ipython",
    "version": 3
   },
   "file_extension": ".py",
   "mimetype": "text/x-python",
   "name": "python",
   "nbconvert_exporter": "python",
   "pygments_lexer": "ipython3",
   "version": "3.12.4"
  }
 },
 "nbformat": 4,
 "nbformat_minor": 5
}
